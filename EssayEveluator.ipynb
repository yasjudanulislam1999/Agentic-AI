{
 "cells": [
  {
   "cell_type": "code",
   "execution_count": 9,
   "metadata": {},
   "outputs": [
    {
     "data": {
      "text/plain": [
       "True"
      ]
     },
     "execution_count": 9,
     "metadata": {},
     "output_type": "execute_result"
    }
   ],
   "source": [
    "import os\n",
    "from dotenv import load_dotenv\n",
    "load_dotenv()"
   ]
  },
  {
   "cell_type": "code",
   "execution_count": 10,
   "metadata": {},
   "outputs": [],
   "source": [
    "from langchain_groq import ChatGroq"
   ]
  },
  {
   "cell_type": "code",
   "execution_count": 11,
   "metadata": {},
   "outputs": [
    {
     "data": {
      "text/plain": [
       "AIMessage(content='Hello! 👋\\n\\nHow can I help you today?\\n', additional_kwargs={}, response_metadata={'token_usage': {'completion_tokens': 14, 'prompt_tokens': 10, 'total_tokens': 24, 'completion_time': 0.025454545, 'prompt_time': 0.001169269, 'queue_time': 0.188290984, 'total_time': 0.026623814}, 'model_name': 'gemma2-9b-it', 'system_fingerprint': 'fp_10c08bf97d', 'service_tier': 'on_demand', 'finish_reason': 'stop', 'logprobs': None}, id='run--6f8fa6ed-8ccf-4860-a84b-70cd9dbd0f18-0', usage_metadata={'input_tokens': 10, 'output_tokens': 14, 'total_tokens': 24})"
      ]
     },
     "execution_count": 11,
     "metadata": {},
     "output_type": "execute_result"
    }
   ],
   "source": [
    "os.environ[\"GROQ_API_KEY\"]=os.getenv(\"GROQ_API_KEY\")\n",
    "\n",
    "\n",
    "llm=ChatGroq(model=\"gemma2-9b-it\")\n",
    "#llm = ChatOpenAI(model=\"gpt-4o\")\n",
    "result=llm.invoke(\"Hello\")\n",
    "result"
   ]
  },
  {
   "cell_type": "code",
   "execution_count": 16,
   "metadata": {},
   "outputs": [],
   "source": [
    "from pydantic import BaseModel,Field\n",
    "\n",
    "class EvaluationSchema(BaseModel):\n",
    "    feedback: str = Field(description=\"Detailed feedback for the essay\")\n",
    "    score: int = Field(description=\"score out of 10\",ge=0,le=10)"
   ]
  },
  {
   "cell_type": "code",
   "execution_count": 17,
   "metadata": {},
   "outputs": [],
   "source": [
    "model = llm.with_structured_output(EvaluationSchema)"
   ]
  },
  {
   "cell_type": "code",
   "execution_count": 99,
   "metadata": {},
   "outputs": [],
   "source": [
    "essay = \"\"\"\n",
    "Trees are an important part of nature. They are green, tall, and provide shade when it is sunny outside. Many people like trees because they look nice and make the air cleaner. Without trees, the world would be different, and not in a good way.\n",
    "\n",
    "One reason trees are useful is that they give us oxygen. Humans and animals need oxygen to breathe, and trees help produce it. At the same time, trees take in carbon dioxide, which is something we don’t need too much of. Scientists say that too much carbon dioxide is bad for the environment, so trees help with that.\n",
    "\n",
    "Another thing trees do is provide homes for animals. Birds build nests in them, and squirrels run up and down their branches. If there were no trees, these animals would have to find somewhere else to live, which might be difficult. Trees also give us fruit, like apples and oranges, which people enjoy eating.\n",
    "\n",
    "Some people cut down trees to build houses or make paper. This is not always bad, but too much cutting can be a problem. If we keep cutting trees without planting new ones, there might not be enough left in the future. That’s why some organizations tell people to plant more trees.\n",
    "\n",
    "In conclusion, trees are helpful in many ways. They give us oxygen, homes for animals, and even food. We should try to take care of them so they can keep doing these things. Maybe if everyone plants one tree, the world would be a better place.\n",
    "\"\"\""
   ]
  },
  {
   "cell_type": "code",
   "execution_count": 100,
   "metadata": {},
   "outputs": [
    {
     "data": {
      "text/plain": [
       "EvaluationSchema(feedback='The essay provides a clear and well-structured explanation of the importance of trees. It covers various aspects, such as oxygen production, habitat provision, and the impact of deforestation. The language is simple and easy to understand. However, it could benefit from more specific examples and a deeper exploration of the complexities involved in deforestation and reforestation efforts.', score=7)"
      ]
     },
     "execution_count": 100,
     "metadata": {},
     "output_type": "execute_result"
    }
   ],
   "source": [
    "prompt = f\"Evaluate the given essay and score it on basis of language quality, clearity of thought and provide detailed feedback and a score out of 10\\n{essay}\"\n",
    "model.invoke(prompt)"
   ]
  },
  {
   "cell_type": "code",
   "execution_count": 101,
   "metadata": {},
   "outputs": [],
   "source": [
    "import operator\n",
    "from typing import Annotated,TypedDict,List\n",
    "from langgraph.graph import START,END, StateGraph\n",
    "\n",
    "class ScoreState(TypedDict):\n",
    "\n",
    "    essay: str\n",
    "    language_feedback: str\n",
    "    analysis_feedback: str\n",
    "    clarity_feedback: str\n",
    "    overall_feedback: str\n",
    "    individual_scores: Annotated[list[int], operator.add]\n",
    "    avg_score: float"
   ]
  },
  {
   "cell_type": "code",
   "execution_count": 102,
   "metadata": {},
   "outputs": [],
   "source": [
    "# Declaring Nodes\n",
    "\n",
    "def clarity(state: ScoreState):\n",
    "    prompt = f\"Evaluate the given essay and score it on basis of clarity of thought and score it out of 10\\n{essay}\"\n",
    "    res = model.invoke(prompt)\n",
    "    return {\"clarity_feedback\": res.feedback, \"individual_scores\": [res.score]}\n",
    "\n",
    "def language(state: ScoreState):\n",
    "    prompt = f\"Evaluate the given essay and score it on basis of the language and grammer correctness and score it out of 10\\n{essay}\"\n",
    "    res = model.invoke(prompt)\n",
    "    return {\"language_feedback\": res.feedback,\"individual_scores\": [res.score]}\n",
    "\n",
    "def analyis(state: ScoreState):\n",
    "    prompt = f\"Evaluate the given essay and score it on basis of the depth of analysis about the topic and score it out of 10\\n{essay}\"\n",
    "    res = model.invoke(prompt)\n",
    "    return {\"analysis_feedback\": res.feedback,\"individual_scores\": [res.score]}\n",
    "\n",
    "def final_evaluation(state: ScoreState):\n",
    "    prompt = f\"Based on the following feedback on an the essay create a summarised feedback,language feedback : {state['language_feedback']} \\n clarity of thought feedback {state['clarity_feedback']} \\n depth of analysis feedback: {state['analysis_feedback']}\"\n",
    "    res = model.invoke(prompt)\n",
    "    avg = sum(state[\"individual_scores\"])/len(state[\"individual_scores\"])\n",
    "    return {\"overall_feedback\": res.feedback,\"avg_score\": [avg]}\n"
   ]
  },
  {
   "cell_type": "code",
   "execution_count": 103,
   "metadata": {},
   "outputs": [],
   "source": [
    "graph = StateGraph(ScoreState)\n",
    "\n",
    "graph.add_node(\"clarity\",clarity)\n",
    "graph.add_node(\"language\",language)\n",
    "graph.add_node(\"analysis\",analyis)\n",
    "graph.add_node(\"overall feedback\",final_evaluation)\n",
    "\n",
    "graph.add_edge(START,\"clarity\")\n",
    "graph.add_edge(START,\"language\")\n",
    "graph.add_edge(START,\"analysis\")\n",
    "\n",
    "graph.add_edge(\"clarity\",\"overall feedback\")\n",
    "graph.add_edge(\"language\",\"overall feedback\")\n",
    "graph.add_edge(\"analysis\",\"overall feedback\")\n",
    "\n",
    "graph.add_edge(\"overall feedback\",END)\n",
    "\n",
    "workflow =graph.compile()\n",
    "\n"
   ]
  },
  {
   "cell_type": "code",
   "execution_count": 104,
   "metadata": {},
   "outputs": [],
   "source": [
    "intial_state = {\"essay\":essay}"
   ]
  },
  {
   "cell_type": "code",
   "execution_count": 105,
   "metadata": {},
   "outputs": [
    {
     "data": {
      "text/plain": [
       "{'essay': '\\nTrees are an important part of nature. They are green, tall, and provide shade when it is sunny outside. Many people like trees because they look nice and make the air cleaner. Without trees, the world would be different, and not in a good way.\\n\\nOne reason trees are useful is that they give us oxygen. Humans and animals need oxygen to breathe, and trees help produce it. At the same time, trees take in carbon dioxide, which is something we don’t need too much of. Scientists say that too much carbon dioxide is bad for the environment, so trees help with that.\\n\\nAnother thing trees do is provide homes for animals. Birds build nests in them, and squirrels run up and down their branches. If there were no trees, these animals would have to find somewhere else to live, which might be difficult. Trees also give us fruit, like apples and oranges, which people enjoy eating.\\n\\nSome people cut down trees to build houses or make paper. This is not always bad, but too much cutting can be a problem. If we keep cutting trees without planting new ones, there might not be enough left in the future. That’s why some organizations tell people to plant more trees.\\n\\nIn conclusion, trees are helpful in many ways. They give us oxygen, homes for animals, and even food. We should try to take care of them so they can keep doing these things. Maybe if everyone plants one tree, the world would be a better place.\\n',\n",
       " 'language_feedback': 'The essay is well-written and clearly explains the importance of trees. The language is appropriate and easy to understand. The structure is logical and the essay flows well.',\n",
       " 'analysis_feedback': \"The essay provides a basic overview of the importance of trees, covering points like oxygen production, animal habitats, and the impact of deforestation. However, the analysis lacks depth and originality. It relies on common knowledge and doesn't explore complex ecological relationships or the multifaceted impacts of deforestation.\",\n",
       " 'clarity_feedback': 'The essay demonstrates a good understanding of the importance of trees. It clearly explains the benefits of trees, such as providing oxygen, habitats for animals, and food. The essay also discusses the negative impacts of deforestation and the importance of planting new trees. The writing is clear and easy to understand.',\n",
       " 'overall_feedback': \"The essay is well-written and clearly explains the importance of trees. The language is appropriate and easy to understand. The structure is logical and the essay flows well. The essay demonstrates a good understanding of the importance of trees. It clearly explains the benefits of trees, such as providing oxygen, habitats for animals, and food. The essay also discusses the negative impacts of deforestation and the importance of planting new trees. The writing is clear and easy to understand. The essay provides a basic overview of the importance of trees, covering points like oxygen production, animal habitats, and the impact of deforestation. However, the analysis lacks depth and originality. It relies on common knowledge and doesn't explore complex ecological relationships or the multifaceted impacts of deforestation.\",\n",
       " 'individual_scores': [6, 8, 8],\n",
       " 'avg_score': [7.333333333333333]}"
      ]
     },
     "execution_count": 105,
     "metadata": {},
     "output_type": "execute_result"
    }
   ],
   "source": [
    "workflow.invoke(intial_state)"
   ]
  },
  {
   "cell_type": "code",
   "execution_count": null,
   "metadata": {},
   "outputs": [],
   "source": []
  },
  {
   "cell_type": "code",
   "execution_count": null,
   "metadata": {},
   "outputs": [],
   "source": []
  }
 ],
 "metadata": {
  "kernelspec": {
   "display_name": "venv",
   "language": "python",
   "name": "python3"
  },
  "language_info": {
   "codemirror_mode": {
    "name": "ipython",
    "version": 3
   },
   "file_extension": ".py",
   "mimetype": "text/x-python",
   "name": "python",
   "nbconvert_exporter": "python",
   "pygments_lexer": "ipython3",
   "version": "3.9.6"
  }
 },
 "nbformat": 4,
 "nbformat_minor": 2
}
