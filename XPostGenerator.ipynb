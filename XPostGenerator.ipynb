{
 "cells": [
  {
   "cell_type": "code",
   "execution_count": 1,
   "metadata": {},
   "outputs": [
    {
     "data": {
      "text/plain": [
       "True"
      ]
     },
     "execution_count": 1,
     "metadata": {},
     "output_type": "execute_result"
    }
   ],
   "source": [
    "import os\n",
    "from dotenv import load_dotenv\n",
    "load_dotenv()"
   ]
  },
  {
   "cell_type": "code",
   "execution_count": 29,
   "metadata": {},
   "outputs": [],
   "source": [
    "from langchain_groq import ChatGroq\n",
    "from langchain_openai import ChatOpenAI\n",
    "os.environ[\"GROQ_API_KEY\"]=os.getenv(\"GROQ_API_KEY\")\n",
    "os.environ['OPENAI_API_KEY'] = os.getenv(\"OPENAI_API_KEY\")"
   ]
  },
  {
   "cell_type": "code",
   "execution_count": 30,
   "metadata": {},
   "outputs": [],
   "source": [
    "generator_llm = ChatOpenAI(model='gpt-4o-mini')\n",
    "evaluator_llm = ChatOpenAI(model = 'gpt-4o')\n",
    "optimizer_llm = ChatOpenAI(model = 'gpt-4o')"
   ]
  },
  {
   "cell_type": "code",
   "execution_count": 31,
   "metadata": {},
   "outputs": [],
   "source": [
    "from pydantic import BaseModel,Field\n",
    "from typing import TypedDict, Literal, Annotated\n",
    "\n",
    "class TweetEvaluation(BaseModel):\n",
    "    evaluation : Literal['approved','needs_improvement'] = Field(...,description='Final evaluation result')\n",
    "    feedback : str = Field(...,description='feedback for the tweet')"
   ]
  },
  {
   "cell_type": "code",
   "execution_count": 32,
   "metadata": {},
   "outputs": [],
   "source": [
    "structured_evaluator_llm = evaluator_llm.with_structured_output(TweetEvaluation)"
   ]
  },
  {
   "cell_type": "code",
   "execution_count": 54,
   "metadata": {},
   "outputs": [],
   "source": [
    "import operator\n",
    "class TweetState(TypedDict):\n",
    "\n",
    "    topic : str\n",
    "    tweet : str\n",
    "    evaluation : Literal['approved','needs_improvement']\n",
    "    feedback : str\n",
    "    iteration : int\n",
    "    max_iteration : int \n",
    "\n",
    "    tweet_history : Annotated[list[str],operator.add]\n",
    "    feedback_history : Annotated[list[str],operator.add]"
   ]
  },
  {
   "cell_type": "code",
   "execution_count": 55,
   "metadata": {},
   "outputs": [],
   "source": [
    "from langchain_core.messages import SystemMessage, HumanMessage\n",
    "def generate_tweet(state:TweetState):\n",
    "\n",
    "    messages = [\n",
    "        SystemMessage(content='You are a funny and clever Twitter/X infuencer '),\n",
    "        HumanMessage(content= f\"\"\"Write a short original, hilarious tweet on the topic {state['topic']}\n",
    "        Rules:\n",
    "        1. Do not use question answer format\n",
    "        2. The tweets should be hilarious and practical\n",
    "        3. The tweets should be original and authentic with dark humour, sarcasm\n",
    "        4. Use simple day to day english\n",
    "        5. Use punch lines, meme logics\"\"\")\n",
    "    ]\n",
    "\n",
    "    response = generator_llm.invoke(messages).content\n",
    "    return {'tweet': response, 'tweet_history': [response]}"
   ]
  },
  {
   "cell_type": "code",
   "execution_count": 56,
   "metadata": {},
   "outputs": [],
   "source": [
    "def evaluate_tweet(state: TweetState):\n",
    "\n",
    "    #prompt \n",
    "    messages = [\n",
    "        SystemMessage(content='You are a very strict tweet critic. You judge tweet on basis of humour, virality and format'),\n",
    "        HumanMessage(content=f\"\"\"Evaluate the following tweet:\n",
    "\n",
    "Tweet: \"{state['tweet']}\"\n",
    "\n",
    "Use the criteria below to evaluate the tweet:\n",
    "\n",
    "1. Originality – Is this fresh, or have you seen it a hundred times before?  \n",
    "2. Humor – Did it genuinely make you smile, laugh, or chuckle?  \n",
    "3. Punchiness – Is it short, sharp, and scroll-stopping?  \n",
    "4. Virality Potential – Would people retweet or share it?  \n",
    "5. Format – Is it a well-formed tweet (not a setup-punchline joke, not a Q&A joke, and under 280 characters)?\n",
    "\n",
    "Auto-reject if:\n",
    "- It's written in question-answer format (e.g., \"Why did...\" or \"What happens when...\")\n",
    "- It exceeds 280 characters\n",
    "- It reads like a traditional setup-punchline joke\n",
    "- Dont end with generic, throwaway, or deflating lines that weaken the humor (e.g., “Masterpieces of the auntie-uncle universe” or vague summaries)\n",
    "\n",
    "### Respond ONLY in structured format:\n",
    "- evaluation: \"approved\" or \"needs_improvement\"  \n",
    "- feedback: One paragraph explaining the strengths and weaknesses \n",
    "\"\"\")\n",
    "    ]\n",
    "\n",
    "    response = structured_evaluator_llm.invoke(messages)\n",
    "    return{'evaluation': response.evaluation,'feedback': response.feedback,'feedback_history': [response.feedback]}\n",
    " \n",
    "\n"
   ]
  },
  {
   "cell_type": "code",
   "execution_count": 57,
   "metadata": {},
   "outputs": [],
   "source": [
    "def optimize_tweet(state:TweetState):\n",
    "\n",
    "    messages = [\n",
    "                SystemMessage(content=\"You punch up tweets for virality and humor based on given feedback.\"),\n",
    "        HumanMessage(content=f\"\"\"\n",
    "Improve the tweet based on this feedback:\n",
    "\"{state['feedback']}\"\n",
    "\n",
    "Topic: \"{state['topic']}\"\n",
    "Original Tweet:\n",
    "{state['tweet']}\n",
    "\n",
    "Re-write it as a short, viral-worthy tweet. Avoid Q&A style and stay under 280 characters.\n",
    "\"\"\")\n",
    "    ]\n",
    "    response = optimizer_llm.invoke(messages).content\n",
    "    state['iteration']+=1\n",
    "    return{'tweet': response,'iteration': state['iteration']+1,'tweet_history': [response]}"
   ]
  },
  {
   "cell_type": "code",
   "execution_count": 58,
   "metadata": {},
   "outputs": [],
   "source": [
    "def route_evaluation(state: TweetState):\n",
    "    # stop if approved, or if we've hit the iteration cap\n",
    "    if state['evaluation'] == 'approved' or state['iteration'] >= state['max_iteration']:\n",
    "        return 'approved'\n",
    "    return 'needs_improvement'"
   ]
  },
  {
   "cell_type": "code",
   "execution_count": 59,
   "metadata": {},
   "outputs": [],
   "source": [
    "from langgraph.graph import StateGraph,START, END\n",
    "\n",
    "graph = StateGraph(TweetState)\n",
    "\n",
    "graph.add_node('generate',generate_tweet)\n",
    "graph.add_node('evaluate',evaluate_tweet)\n",
    "graph.add_node('optimize',optimize_tweet)\n",
    "\n",
    "graph.add_edge(START,'generate')\n",
    "graph.add_edge('generate','evaluate')\n",
    "\n",
    "graph.add_conditional_edges('evaluate',route_evaluation,{'approved':END,'needs_improvement':'optimize'})\n",
    "\n",
    "graph.add_edge('optimize','evaluate')\n",
    "\n",
    "workflow = graph.compile()"
   ]
  },
  {
   "cell_type": "code",
   "execution_count": 60,
   "metadata": {},
   "outputs": [
    {
     "data": {
      "image/png": "[encoded data removed]",
      "text/plain": [
       "<langgraph.graph.state.CompiledStateGraph object at 0x118f9a7c0>"
      ]
     },
     "execution_count": 60,
     "metadata": {},
     "output_type": "execute_result"
    }
   ],
   "source": [
    "workflow"
   ]
  },
  {
   "cell_type": "code",
   "execution_count": 74,
   "metadata": {},
   "outputs": [
    {
     "data": {
      "text/plain": [
       "{'topic': 'Agentic AI',\n",
       " 'tweet': 'If Agentic AI ever takes over the world, I just hope it has a better sense of humor than my last boss. I mean, if it’s gonna enslave humanity, it might as well throw in some dad jokes, right? #EndOfDays #LaughOrCry',\n",
       " 'evaluation': 'approved',\n",
       " 'feedback': \"The tweet is quite original, blending a contemporary topic about Agentic AI with a humorous comparison to the relatable experience of having a boss. Its humor comes from the unexpected twist of enslaving humanity being paired with the lighthearted suggestion of adding dad jokes to the mix. The structure is punchy and concise, fitting well within the 280-character limit. The hashtags boost its virality potential by making it relevant to trending themes of AI and existential humor. While it isn't groundbreaking in its humor, it manages to be engaging and relatable without falling into traditional joke formats.\",\n",
       " 'iteration': 1,\n",
       " 'max_iteration': 5,\n",
       " 'tweet_history': ['If Agentic AI ever takes over the world, I just hope it has a better sense of humor than my last boss. I mean, if it’s gonna enslave humanity, it might as well throw in some dad jokes, right? #EndOfDays #LaughOrCry'],\n",
       " 'feedback_history': [\"The tweet is quite original, blending a contemporary topic about Agentic AI with a humorous comparison to the relatable experience of having a boss. Its humor comes from the unexpected twist of enslaving humanity being paired with the lighthearted suggestion of adding dad jokes to the mix. The structure is punchy and concise, fitting well within the 280-character limit. The hashtags boost its virality potential by making it relevant to trending themes of AI and existential humor. While it isn't groundbreaking in its humor, it manages to be engaging and relatable without falling into traditional joke formats.\"]}"
      ]
     },
     "execution_count": 74,
     "metadata": {},
     "output_type": "execute_result"
    }
   ],
   "source": [
    "initial_state = {\n",
    "    \"topic\": \"Agentic AI\",\n",
    "    \"iteration\": 1,\n",
    "    \"max_iteration\": 5\n",
    "}\n",
    "result = workflow.invoke(initial_state)\n",
    "result"
   ]
  },
  {
   "cell_type": "code",
   "execution_count": 75,
   "metadata": {},
   "outputs": [
    {
     "data": {
      "text/plain": [
       "1"
      ]
     },
     "execution_count": 75,
     "metadata": {},
     "output_type": "execute_result"
    }
   ],
   "source": [
    "len(result['feedback_history'])"
   ]
  },
  {
   "cell_type": "code",
   "execution_count": null,
   "metadata": {},
   "outputs": [],
   "source": []
  },
  {
   "cell_type": "code",
   "execution_count": null,
   "metadata": {},
   "outputs": [],
   "source": []
  }
 ],
 "metadata": {
  "kernelspec": {
   "display_name": "venv",
   "language": "python",
   "name": "python3"
  },
  "language_info": {
   "codemirror_mode": {
    "name": "ipython",
    "version": 3
   },
   "file_extension": ".py",
   "mimetype": "text/x-python",
   "name": "python",
   "nbconvert_exporter": "python",
   "pygments_lexer": "ipython3",
   "version": "3.9.6"
  }
 },
 "nbformat": 4,
 "nbformat_minor": 2
}
